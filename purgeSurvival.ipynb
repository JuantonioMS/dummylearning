{
 "cells": [
  {
   "cell_type": "code",
   "execution_count": 42,
   "metadata": {},
   "outputs": [
    {
     "name": "stdout",
     "output_type": "stream",
     "text": [
      "[(False,  330.) ( True,  849.) (False,   nan) ( True,   72.)\n",
      " ( True,   15.) ( True,  183.) ( True,   37.) ( True,  252.)\n",
      " (False,   nan) (False,   nan) ( True,  159.) ( True,  201.)\n",
      " ( True,  273.) ( True,  324.) ( True,  350.) ( True,  190.)\n",
      " ( True,  201.) ( True,   84.) ( True,  356.) ( True,   57.)\n",
      " (False,  297.) ( True,  160.) ( True,   nan) ( True,   nan)\n",
      " (False, 1396.) ( True,  392.) ( True,    3.) (False,   nan)\n",
      " ( True,   44.) (False,  359.) ( True,  147.) ( True,  189.)\n",
      " (False,  395.) ( True,   51.) (False,  921.) ( True,  190.)\n",
      " ( True,   16.) ( True,  239.) (False,  271.) ( True,  263.)\n",
      " ( True,  297.) ( True,   84.) ( True,   85.) ( True,  504.)\n",
      " ( True,  642.) ( True,  260.) ( True,  777.) ( True,  205.)\n",
      " (False,  294.) (False,  196.) (False,   nan) ( True,  198.)\n",
      " (False,   nan) ( True,   nan) ( True,  310.) ( True,   30.)\n",
      " ( True,   96.) ( True,  467.) (False,   nan) ( True,  617.)\n",
      " ( True,   14.) ( True,   14.) ( True,  246.) (False,  206.)\n",
      " ( True,  189.) ( True,   55.) ( True,  161.) ( True,  292.)\n",
      " ( True,   52.) ( True,  322.) ( True,   57.) ( True,   84.)\n",
      " ( True,   70.) (False,   nan) ( True,  146.) (False,  177.)\n",
      " ( True,   nan) ( True,  248.) (False,   nan) (False,  274.)\n",
      " ( True,  341.) ( True,  143.) (False,   nan) (False,   nan)\n",
      " ( True,  252.) ( True,  322.) ( True,  427.) ( True,  499.)\n",
      " ( True,  189.) ( True,  264.) ( True,  210.) (False,  490.)\n",
      " (False,   nan) ( True,  207.) ( True,  848.) ( True,  205.)\n",
      " ( True,   85.) (False,   nan) ( True,  225.) ( True,  133.)\n",
      " ( True,  256.) ( True,   97.) ( True,  638.) ( True,  281.)\n",
      " ( True,  151.) ( True,  363.) ( True,  359.) (False,   nan)\n",
      " ( True,  260.) ( True,  351.) ( True,  299.) ( True,   12.)\n",
      " ( True,  427.) ( True,  170.) (False,   nan) (False,  513.)\n",
      " ( True,   nan) ( True,   74.) ( True,  179.) (False,  581.)\n",
      " (False,   nan) (False,   nan) (False,  245.) (False,  463.)\n",
      " ( True,  308.) ( True,  168.) (False,  463.) ( True,   70.)\n",
      " ( True,   81.) ( True,   95.) (False,   nan) ( True,  243.)\n",
      " ( True,  143.) (False,  335.) ( True,   78.) (False,  512.)\n",
      " (False,  414.) ( True,  258.) (False,  455.) (False,  284.)\n",
      " (False,  250.) (False,  273.) (False,  363.) (False,  358.)\n",
      " (False,  231.) (False,  282.) (False,  359.) (False,  279.)\n",
      " (False,  244.) ( True,  148.) (False,   nan) (False,  171.)\n",
      " (False,  216.) (False,  231.)]\n"
     ]
    }
   ],
   "source": [
    "import pickle\n",
    "import numpy as np\n",
    "\n",
    "with open('object.pickle', 'rb') as handle:\n",
    "    data = pickle.load(handle)\n",
    "    \n",
    "print(data.tags)"
   ]
  },
  {
   "cell_type": "code",
   "execution_count": 38,
   "metadata": {},
   "outputs": [
    {
     "name": "stdout",
     "output_type": "stream",
     "text": [
      "<class 'numpy.ndarray'>\n"
     ]
    }
   ],
   "source": [
    "def purge(data):\n",
    "    \n",
    "    boolean = np.isnan(data.tags[\"Survival_in_days\"]) + np.isnan(data.tags[\"Status\"])\n",
    "    \n",
    "    aux = np.array([], dtype = [(\"Status\", \"?\"), (\"Survival_in_days\", \"<f8\")])\n",
    "    for index, empty in enumerate(boolean):\n",
    "        if not empty:\n",
    "            aux = np.append(aux, data.tags[index])\n",
    "    \n",
    "    \n",
    "    print(aux)\n"
   ]
  },
  {
   "cell_type": "code",
   "execution_count": 39,
   "metadata": {},
   "outputs": [
    {
     "name": "stdout",
     "output_type": "stream",
     "text": [
      "[(False,  330.) ( True,  849.) ( True,   72.) ( True,   15.)\n",
      " ( True,  183.) ( True,   37.) ( True,  252.) ( True,  159.)\n",
      " ( True,  201.) ( True,  273.) ( True,  324.) ( True,  350.)\n",
      " ( True,  190.) ( True,  201.) ( True,   84.) ( True,  356.)\n",
      " ( True,   57.) (False,  297.) ( True,  160.) (False, 1396.)\n",
      " ( True,  392.) ( True,    3.) ( True,   44.) (False,  359.)\n",
      " ( True,  147.) ( True,  189.) (False,  395.) ( True,   51.)\n",
      " (False,  921.) ( True,  190.) ( True,   16.) ( True,  239.)\n",
      " (False,  271.) ( True,  263.) ( True,  297.) ( True,   84.)\n",
      " ( True,   85.) ( True,  504.) ( True,  642.) ( True,  260.)\n",
      " ( True,  777.) ( True,  205.) (False,  294.) (False,  196.)\n",
      " ( True,  198.) ( True,  310.) ( True,   30.) ( True,   96.)\n",
      " ( True,  467.) ( True,  617.) ( True,   14.) ( True,   14.)\n",
      " ( True,  246.) (False,  206.) ( True,  189.) ( True,   55.)\n",
      " ( True,  161.) ( True,  292.) ( True,   52.) ( True,  322.)\n",
      " ( True,   57.) ( True,   84.) ( True,   70.) ( True,  146.)\n",
      " (False,  177.) ( True,  248.) (False,  274.) ( True,  341.)\n",
      " ( True,  143.) ( True,  252.) ( True,  322.) ( True,  427.)\n",
      " ( True,  499.) ( True,  189.) ( True,  264.) ( True,  210.)\n",
      " (False,  490.) ( True,  207.) ( True,  848.) ( True,  205.)\n",
      " ( True,   85.) ( True,  225.) ( True,  133.) ( True,  256.)\n",
      " ( True,   97.) ( True,  638.) ( True,  281.) ( True,  151.)\n",
      " ( True,  363.) ( True,  359.) ( True,  260.) ( True,  351.)\n",
      " ( True,  299.) ( True,   12.) ( True,  427.) ( True,  170.)\n",
      " (False,  513.) ( True,   74.) ( True,  179.) (False,  581.)\n",
      " (False,  245.) (False,  463.) ( True,  308.) ( True,  168.)\n",
      " (False,  463.) ( True,   70.) ( True,   81.) ( True,   95.)\n",
      " ( True,  243.) ( True,  143.) (False,  335.) ( True,   78.)\n",
      " (False,  512.) (False,  414.) ( True,  258.) (False,  455.)\n",
      " (False,  284.) (False,  250.) (False,  273.) (False,  363.)\n",
      " (False,  358.) (False,  231.) (False,  282.) (False,  359.)\n",
      " (False,  279.) (False,  244.) ( True,  148.) (False,  171.)\n",
      " (False,  216.) (False,  231.)]\n"
     ]
    }
   ],
   "source": [
    "new = np.array([], dtype = [(\"Status\", \"?\"), (\"Survival_in_days\", \"<f8\")])\n",
    "for index, empty in enumerate(boolean):\n",
    "    if not empty:\n",
    "        new = np.append(new, data.tags[index])\n",
    "print(new)"
   ]
  }
 ],
 "metadata": {
  "kernelspec": {
   "display_name": "Python 3",
   "language": "python",
   "name": "python3"
  },
  "language_info": {
   "codemirror_mode": {
    "name": "ipython",
    "version": 3
   },
   "file_extension": ".py",
   "mimetype": "text/x-python",
   "name": "python",
   "nbconvert_exporter": "python",
   "pygments_lexer": "ipython3",
   "version": "3.8.5"
  }
 },
 "nbformat": 4,
 "nbformat_minor": 4
}
