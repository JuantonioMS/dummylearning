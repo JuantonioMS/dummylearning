{
 "cells": [
  {
   "cell_type": "code",
   "execution_count": 2,
   "metadata": {},
   "outputs": [],
   "source": [
    "import pickle\n",
    "\n",
    "with open('object.pickle', 'rb') as handle:\n",
    "    data = pickle.load(handle)"
   ]
  },
  {
   "cell_type": "code",
   "execution_count": 4,
   "metadata": {
    "scrolled": true
   },
   "outputs": [
    {
     "data": {
      "text/plain": [
       "array([(False,  330.), ( True,  849.), (False,   nan), ( True,   72.),\n",
       "       ( True,   15.), ( True,  183.), ( True,   37.), ( True,  252.),\n",
       "       (False,   nan), (False,   nan), ( True,  159.), ( True,  201.),\n",
       "       ( True,  273.), ( True,  324.), ( True,  350.), ( True,  190.),\n",
       "       ( True,  201.), ( True,   84.), ( True,  356.), ( True,   57.),\n",
       "       (False,  297.), ( True,  160.), ( True,   nan), ( True,   nan),\n",
       "       (False, 1396.), ( True,  392.), ( True,    3.), (False,   nan),\n",
       "       ( True,   44.), (False,  359.), ( True,  147.), ( True,  189.),\n",
       "       (False,  395.), ( True,   51.), (False,  921.), ( True,  190.),\n",
       "       ( True,   16.), ( True,  239.), (False,  271.), ( True,  263.),\n",
       "       ( True,  297.), ( True,   84.), ( True,   85.), ( True,  504.),\n",
       "       ( True,  642.), ( True,  260.), ( True,  777.), ( True,  205.),\n",
       "       (False,  294.), (False,  196.), (False,   nan), ( True,  198.),\n",
       "       (False,   nan), ( True,   nan), ( True,  310.), ( True,   30.),\n",
       "       ( True,   96.), ( True,  467.), (False,   nan), ( True,  617.),\n",
       "       ( True,   14.), ( True,   14.), ( True,  246.), (False,  206.),\n",
       "       ( True,  189.), ( True,   55.), ( True,  161.), ( True,  292.),\n",
       "       ( True,   52.), ( True,  322.), ( True,   57.), ( True,   84.),\n",
       "       ( True,   70.), (False,   nan), ( True,  146.), (False,  177.),\n",
       "       ( True,   nan), ( True,  248.), (False,   nan), (False,  274.),\n",
       "       ( True,  341.), ( True,  143.), (False,   nan), (False,   nan),\n",
       "       ( True,  252.), ( True,  322.), ( True,  427.), ( True,  499.),\n",
       "       ( True,  189.), ( True,  264.), ( True,  210.), (False,  490.),\n",
       "       (False,   nan), ( True,  207.), ( True,  848.), ( True,  205.),\n",
       "       ( True,   85.), (False,   nan), ( True,  225.), ( True,  133.),\n",
       "       ( True,  256.), ( True,   97.), ( True,  638.), ( True,  281.),\n",
       "       ( True,  151.), ( True,  363.), ( True,  359.), (False,   nan),\n",
       "       ( True,  260.), ( True,  351.), ( True,  299.), ( True,   12.),\n",
       "       ( True,  427.), ( True,  170.), (False,   nan), (False,  513.),\n",
       "       ( True,   nan), ( True,   74.), ( True,  179.), (False,  581.),\n",
       "       (False,   nan), (False,   nan), (False,  245.), (False,  463.),\n",
       "       ( True,  308.), ( True,  168.), (False,  463.), ( True,   70.),\n",
       "       ( True,   81.), ( True,   95.), (False,   nan), ( True,  243.),\n",
       "       ( True,  143.), (False,  335.), ( True,   78.), (False,  512.),\n",
       "       (False,  414.), ( True,  258.), (False,  455.), (False,  284.),\n",
       "       (False,  250.), (False,  273.), (False,  363.), (False,  358.),\n",
       "       (False,  231.), (False,  282.), (False,  359.), (False,  279.),\n",
       "       (False,  244.), ( True,  148.), (False,   nan), (False,  171.),\n",
       "       (False,  216.), (False,  231.)],\n",
       "      dtype=[('Status', '?'), ('Survival_in_days', '<f8')])"
      ]
     },
     "execution_count": 4,
     "metadata": {},
     "output_type": "execute_result"
    }
   ],
   "source": [
    "data.tags\n"
   ]
  },
  {
   "cell_type": "code",
   "execution_count": null,
   "metadata": {},
   "outputs": [],
   "source": []
  }
 ],
 "metadata": {
  "kernelspec": {
   "display_name": "Python 3",
   "language": "python",
   "name": "python3"
  },
  "language_info": {
   "codemirror_mode": {
    "name": "ipython",
    "version": 3
   },
   "file_extension": ".py",
   "mimetype": "text/x-python",
   "name": "python",
   "nbconvert_exporter": "python",
   "pygments_lexer": "ipython3",
   "version": "3.8.5"
  }
 },
 "nbformat": 4,
 "nbformat_minor": 4
}
